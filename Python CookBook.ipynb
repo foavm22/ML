{
 "cells": [
  {
   "cell_type": "code",
   "execution_count": 1,
   "metadata": {},
   "outputs": [
    {
     "name": "stdout",
     "output_type": "stream",
     "text": [
      "<class 'numpy.ndarray'>\n"
     ]
    },
    {
     "data": {
      "text/plain": [
       "False"
      ]
     },
     "execution_count": 1,
     "metadata": {},
     "output_type": "execute_result"
    }
   ],
   "source": [
    "# 26, Nov, 2023\n",
    "\n",
    "# CH1 벡터, 행렬, 배열\n",
    "# 벡터를 만들어야 합니다.\n",
    "\n",
    "import numpy as np\n",
    "\n",
    "vector_row = np.array([1,2,3])\n",
    "\n",
    "vector_column = np.array([[1],\n",
    "                          [2],\n",
    "                          [3]])\n",
    "\n",
    "print(type(vector_row))\n",
    "\n",
    "# 넘파이 배열은 ndarray 클래스의 객체. \n",
    "\n",
    "# ndarray를 사용하는 방법은 권장X\n",
    "bad_way = np.ndarray((3,))\n",
    "\n",
    "# asarray 함수를 사용하여 배열 만들기. \n",
    "new_row = np.asarray([1,2,3])\n",
    "\n",
    "#입력이 넘파이 배열일 떄는 새로운 배열을 생성X\n",
    "new_row = np.asarray(vector_row)\n",
    "new_row is vector_row\n",
    "\n",
    "\n",
    "# array는 배열이 입력되면 새로운 배열을 만듭니다.\n",
    "new_row = np.array(vector_row)\n",
    "new_row is vector_row\n",
    "\n",
    "#copy 매서드를 사용하면 의도가 분명해집니다.\n",
    "new_row = vector_row.copy()\n",
    "new_row is vector_row"
   ]
  },
  {
   "cell_type": "code",
   "execution_count": 2,
   "metadata": {},
   "outputs": [
    {
     "data": {
      "text/plain": [
       "array([[7, 7],\n",
       "       [7, 7],\n",
       "       [7, 7]])"
      ]
     },
     "execution_count": 2,
     "metadata": {},
     "output_type": "execute_result"
    }
   ],
   "source": [
    "# 행렬을 만들어야 합니다.\n",
    "import numpy as np\n",
    "\n",
    "matrix = np.array([[1, 2],\n",
    "                  [1, 2],\n",
    "                  [1, 2]])\n",
    "\n",
    "matrix_object = np.mat([[1, 2],\n",
    "                        [1, 2],\n",
    "                        [1, 2]])\n",
    "\n",
    "# 넘파이 표준 데이터 구조는 배열. 대부분의 넘파이 함수는 행렬 아닌 배열을 반환\n",
    "# 행렬 데이터 구조는 권장X\n",
    "\n",
    "\n",
    "# 임의의 값이 채워진 배열을 만듭니다.\n",
    "empty_matrix = np.empty((3, 2))\n",
    "empty_matrix\n",
    "\n",
    "zero_matrix = np.zeros((3, 2))\n",
    "zero_matrix\n",
    "\n",
    "one_matrix = np.ones((3, 2))\n",
    "one_matrix\n",
    "\n",
    "# 영행렬을 만든 후 7을 더합니다.\n",
    "seven_matrix = np.zeros((3, 2)) + 7\n",
    "\n",
    "# full 함수를 사용하는 것이 효율적입니다.\n",
    "seven_matrix = np.full((3, 2), 7)\n",
    "seven_matrix"
   ]
  },
  {
   "cell_type": "code",
   "execution_count": 5,
   "metadata": {},
   "outputs": [
    {
     "name": "stdout",
     "output_type": "stream",
     "text": [
      "  (1, 1)\t1\n",
      "  (2, 0)\t3\n",
      "  (1, 1)\t1\n",
      "  (2, 0)\t3\n",
      "  (1, 1)\t1\n",
      "  (2, 0)\t3\n",
      "[[0 0 0 0 0 0 0 0 0 0]\n",
      " [0 1 0 0 0 0 0 0 0 0]\n",
      " [3 0 0 0 0 0 0 0 0 0]]\n"
     ]
    },
    {
     "data": {
      "text/plain": [
       "matrix([[0, 0, 0, 0, 0, 0, 0, 0, 0, 0],\n",
       "        [0, 1, 0, 0, 0, 0, 0, 0, 0, 0],\n",
       "        [3, 0, 0, 0, 0, 0, 0, 0, 0, 0]], dtype=int32)"
      ]
     },
     "execution_count": 5,
     "metadata": {},
     "output_type": "execute_result"
    }
   ],
   "source": [
    "# 데이터에 0이 아닌 값이 매우 적을 때 이를 효율적으로 표현하고 싶습니다.\n",
    "\n",
    "from scipy import sparse\n",
    "\n",
    "matrix = np.array([[0, 0],\n",
    "                   [0, 1],\n",
    "                   [3, 0]])\n",
    "\n",
    "\n",
    "matrix_sparse = sparse.csr_matrix(matrix)\n",
    "\n",
    "# 희소 행렬은 0이 아닌 원소만 저장. 다른 모든 원소는 0이라 가정하여 계산비용을 줄임\n",
    "# CSR: Compressed Sparse Row\n",
    "\n",
    "print(matrix_sparse)\n",
    "\n",
    "\n",
    "matrix_large = np.array([[0, 0, 0, 0, 0, 0, 0, 0, 0, 0],\n",
    "                         [0, 1, 0, 0, 0, 0, 0, 0, 0, 0],\n",
    "                         [3, 0, 0, 0, 0, 0, 0, 0, 0, 0]])\n",
    "\n",
    "matrix_large_sparse = sparse.csr_matrix(matrix_large)\n",
    "\n",
    "print(matrix_large_sparse)\n",
    "\n",
    "# 희소 행렬에는 여러 종류가 있음. CSC, 리스트의 리스트, 키의 딕셔너리 등\n",
    "\n",
    "# 일반적으로 밀집 배열 (dense array)로부터 희소 행렬을 만드는 일은 드뭅니다.\n",
    "# 원소의 행과 열의 인덱스를 직접 지정하여 희소 행렬을 만들 수 있습니다.\n",
    "\n",
    "\n",
    "# (data, (row_index, col_index)) 로 구성된 튜플을 전달합니다.\n",
    "# shape 매개변수에서 0을 포함한 행렬의 전체 크기를 지정합니다.\n",
    "\n",
    "matrix_sparse_2 = sparse.csr_matrix(([1, 3], ([1, 2], [1, 0])), shape=(3, 10))\n",
    "# ([할당할 수],([행],[열])) // 2행 2열에 1 배정, 3행 1열에 3배정 \n",
    "\n",
    "print(matrix_sparse_2)\n",
    "\n",
    "# 희소 행렬을 밀집 배열로 변환하려면 toarray 매서드를 사용합니다.\n",
    "print(matrix_sparse_2.toarray())\n",
    "\n",
    "# todense 매서드는 np.matrix 객체를 반환합니다.\n",
    "matrix_sparse_2.todense()"
   ]
  },
  {
   "cell_type": "code",
   "execution_count": 6,
   "metadata": {},
   "outputs": [
    {
     "data": {
      "text/plain": [
       "5"
      ]
     },
     "execution_count": 6,
     "metadata": {},
     "output_type": "execute_result"
    }
   ],
   "source": [
    "# 12, Jan, 2024\n",
    "# 1.4 원소 선택하기\n",
    "# 벡터나 행렬에서 원소를 하나 이상 선택해야 합니다.\n",
    "\n",
    "import numpy as np\n",
    "\n",
    "vector = np.array([1,2,3,4,5,6])\n",
    "\n",
    "matrix = np.array([[1,2,3],\n",
    "                   [4,5,6],\n",
    "                   [7,8,9]])\n",
    "\n",
    "vector[2]\n",
    "\n",
    "matrix[1,1]"
   ]
  },
  {
   "cell_type": "code",
   "execution_count": 17,
   "metadata": {},
   "outputs": [
    {
     "data": {
      "text/plain": [
       "array([[2],\n",
       "       [5],\n",
       "       [8]])"
      ]
     },
     "execution_count": 17,
     "metadata": {},
     "output_type": "execute_result"
    }
   ],
   "source": [
    "# 파이썬과 마차나지로 넘파이 배열의 인덱스는 0부터 시작합니다. 즉, 첫 번째 원소의 인덱스는 1이 아니라 0입니다. \n",
    "# 넘파이는 배열에서 원소나 원소 그룹을 선택하는 다양한 방법(인덱싱, 슬라이싱)을 제공합니다.\n",
    "\n",
    "# 벡터에 있는 모든 원소 선택\n",
    "vector[:]\n",
    "\n",
    "# 세 번째 원소를 포함한 그 이전의 모든 원소 선택\n",
    "vector[:3] \n",
    "\n",
    "# 세 번째 이후의 모든 원소 선택\n",
    "vector[3:]\n",
    "\n",
    "# 마지막 원소 선택\n",
    "vector[-1]\n",
    "\n",
    "# 행렬에서 첫 번째 두 행과 모든 열 선택\n",
    "matrix[:2,:]\n",
    "\n",
    "# 모든 행과 두 번째 열 선택\n",
    "matrix[:,1:2]\n",
    "\n",
    "# cf. 위는 두 번째 열이 matrix 형태 그대로 열벡터로 나오지만, 아래처럼 스칼라로 줄 경우 행벡터 형태로 나옴\n",
    "matrix[:,1]"
   ]
  },
  {
   "cell_type": "code",
   "execution_count": 20,
   "metadata": {},
   "outputs": [
    {
     "data": {
      "text/plain": [
       "array([6, 7, 8, 9])"
      ]
     },
     "execution_count": 20,
     "metadata": {},
     "output_type": "execute_result"
    }
   ],
   "source": [
    "# 행과 열의 인덱스 리스트를 전달하여 배열의 원소를 선택할 수 있습니다. 이를 팬시 인덱싱(fancy indexing)이라고도 부릅니다.\n",
    "\n",
    "# 첫 번째 행과 세 번째 행 선택\n",
    "matrix[[0,2]]\n",
    "\n",
    "# (0,1), (2,0) 위치의 원소 선택\n",
    "matrix[[0,2],[1,0]]\n",
    "\n",
    "\n",
    "# 불리언 마스크(boolean mask) 배열을 만들어 원소를 선택할 수도 있습니다.\n",
    "\n",
    "# matrix의 각 원소에 비교 연산자 적용\n",
    "mask = matrix > 5\n",
    "mask\n",
    "\n",
    "# 불리언 마스크 배열을 사용하여 원소 선택\n",
    "matrix[mask]"
   ]
  },
  {
   "cell_type": "code",
   "execution_count": 26,
   "metadata": {},
   "outputs": [
    {
     "name": "stdout",
     "output_type": "stream",
     "text": [
      "int32\n",
      "4\n",
      "48\n"
     ]
    }
   ],
   "source": [
    "# 1.5 행렬 정보 확인하기\n",
    "# 행렬 크기, 원소 개수, 차원을 알고 싶습니다.\n",
    "\n",
    "import numpy as np\n",
    "\n",
    "matrix = np.array([[1,2,3,4],\n",
    "                   [5,6,7,8],\n",
    "                   [9,10,11,12]])\n",
    "\n",
    "# 행렬 크기 확인\n",
    "matrix.shape\n",
    "\n",
    "# 행렬의 원소 개수 확인 (행 * 열)\n",
    "matrix.size\n",
    "\n",
    "# 차원 수 확인\n",
    "matrix.ndim\n",
    "\n",
    "\n",
    "# 원소의 데이터 타입 확인\n",
    "print(matrix.dtype)\n",
    "\n",
    "# 원소 하나가 차지하는 바이트 크기\n",
    "print(matrix.itemsize)\n",
    "\n",
    "# 배열 전체가 차지하는 바이트 크기\n",
    "print(matrix.nbytes)"
   ]
  },
  {
   "cell_type": "code",
   "execution_count": 27,
   "metadata": {},
   "outputs": [
    {
     "data": {
      "text/plain": [
       "array([[101, 102, 103],\n",
       "       [104, 105, 106],\n",
       "       [107, 108, 109]])"
      ]
     },
     "execution_count": 27,
     "metadata": {},
     "output_type": "execute_result"
    }
   ],
   "source": [
    "# 1.6 벡터화 연산 적용하기\n",
    "\n",
    "import numpy as np\n",
    "\n",
    "matrix = np.array([[1,2,3],\n",
    "                   [4,5,6],\n",
    "                   [7,8,9]])\n",
    "\n",
    "# 100을 더하는 함수를 만듭니다.\n",
    "add_100 = lambda i: i+100\n",
    "\n",
    "# 벡터화된 함수를 만듭니다.\n",
    "vectorized_add_100 = np.vectorize(add_100)\n",
    "\n",
    "# 행렬의 모든 원소에 함수를 적용합니다.\n",
    "vectorized_add_100(matrix)"
   ]
  },
  {
   "cell_type": "code",
   "execution_count": 29,
   "metadata": {},
   "outputs": [
    {
     "data": {
      "text/plain": [
       "array([[101, 102, 103],\n",
       "       [104, 105, 106],\n",
       "       [107, 108, 109]])"
      ]
     },
     "execution_count": 29,
     "metadata": {},
     "output_type": "execute_result"
    }
   ],
   "source": [
    "# 넘파이 vectorize 클래스는 배열의 일부나 전체에 적용하도록 함수를 변환시킵니다. \n",
    "# vectorize는 기본적으로 원소를 순회하는 for 루프를 구현한 것으로 성능이 향상되지는 않습니다.\n",
    "# 반면, 넘파이 배열은 차원이 달라도 배열 간의 연산을 수행할 수 있습니다(이를 브로드캐스팅(broadcasting)이라고 부릅니다).\n",
    "\n",
    "# 모든 원소에 100을 더합니다.\n",
    "matrix + 100\n",
    "\n",
    "# 브로드캐스팅은 배열에 차원을 추가하거나 반복해서 배열 크기를 맞춥니다.\n",
    "\n",
    "# (3,3) 크기 행렬에 (3,) 크기 벡터를 더하면\n",
    "# (1,3) 크기가 된 다음 행을 따라 반복됩니다.\n",
    "matrix + [100,100,100]\n",
    "\n",
    "# (3,3) 크기 행렬에 (3,1) 크기 벡터를 더하면 열을 따라 반복됩니다.\n",
    "matrix + [[100],[100],[100]]"
   ]
  },
  {
   "cell_type": "code",
   "execution_count": 32,
   "metadata": {},
   "outputs": [
    {
     "data": {
      "text/plain": [
       "array([[-2, -1,  0],\n",
       "       [-2, -1,  0],\n",
       "       [-2, -1,  0]])"
      ]
     },
     "execution_count": 32,
     "metadata": {},
     "output_type": "execute_result"
    }
   ],
   "source": [
    "# 1.7 최댓값, 최솟값 찾기\n",
    "\n",
    "# 가장 큰 원소를 반환\n",
    "np.max(matrix)\n",
    "\n",
    "# 가장 작은 원소를 반환\n",
    "np.min(matrix)\n",
    "\n",
    "\n",
    "# axis 매개변수를 사용하여 특정 축을 따라 연산을 수행할 수 있습니다.\n",
    "\n",
    "# 각 열에서 최댓값을 찾습니다.\n",
    "np.max(matrix, axis=0)\n",
    "\n",
    "# 각 행에서 최댓값을 찾습니다.\n",
    "np.max(matrix, axis=1)\n",
    "\n",
    "\n",
    "# keepdims 매개변수를 True로 지정하면 원본 배열의 차원과 동일한 결과를 만듭니다. 원본 배열과 안전하게 브로드캐스팅 연산을 할 수 있습니다.\n",
    "\n",
    "# 이전 예와 달리 (3,1) 크기의 열 벡터가 만들어집니다.\n",
    "vector_column = np.max(matrix, axis=1, keepdims=True)\n",
    "vector_column\n",
    "\n",
    "# 열 벡터이므로 브로드캐스팅을 이용하여 각 행의 최댓값을 뺄 수 있습니다.\n",
    "matrix - vector_column"
   ]
  },
  {
   "cell_type": "code",
   "execution_count": 35,
   "metadata": {},
   "outputs": [
    {
     "data": {
      "text/plain": [
       "0    2.738613\n",
       "dtype: float64"
      ]
     },
     "execution_count": 35,
     "metadata": {},
     "output_type": "execute_result"
    }
   ],
   "source": [
    "# 1.8 평균, 분산, 표준편차 계산하기\n",
    "\n",
    "# 평균 반환\n",
    "np.mean(matrix)\n",
    "\n",
    "# 분산 반환\n",
    "np.var(matrix)\n",
    "\n",
    "# 표준편차 반환\n",
    "np.std(matrix)\n",
    "\n",
    "\n",
    "# 각 열의 평균 계산\n",
    "np.mean(matrix, axis=0)\n",
    "\n",
    "\n",
    "# 훈련 데이터의 독립적인 샘플 수는 전체 샘플 수에서 1을 빼야 합니다. np.std 함수와 np.var 함수에서 ddof 매개변수를 1로 지정하여 \n",
    "# 편향되지 않은 추정값을 얻을 수 있습니다. ddof 매개변수의 기본값은 0입니다.\n",
    "\n",
    "np.std(matrix, ddof=1)\n",
    "\n",
    "# 넘파이와 다르게 판다스 데이터프레임의 std 메서드는 ddof 매개변수의 기본값이 1입니다.\n",
    "\n",
    "import pandas as pd\n",
    "\n",
    "df = pd.DataFrame(matrix.flatten())\n",
    "df.std()\n",
    "\n",
    "# 넘파이 mean, std, var 함수도 keepdims 매개변수를 지원합니다."
   ]
  },
  {
   "cell_type": "code",
   "execution_count": 42,
   "metadata": {},
   "outputs": [
    {
     "data": {
      "text/plain": [
       "array([ 1,  2,  3,  4,  5,  6,  7,  8,  9, 10, 11, 12])"
      ]
     },
     "execution_count": 42,
     "metadata": {},
     "output_type": "execute_result"
    }
   ],
   "source": [
    "# 1.9 배열 크기 바꾸기\n",
    "\n",
    "matrix = np.array([[1,2,3,4],\n",
    "                   [5,6,7,8],\n",
    "                   [9,10,11,12]])\n",
    "\n",
    "# 2x6 행렬로 크기를 바꿉니다.\n",
    "matrix.reshape(2,6)\n",
    "\n",
    "\n",
    "# reshape 함수는 데이터를 동일하게 유지하면서 배열의 구조를 변경하여 행과 열의 수를 다르게 조직할 수 있습니다.\n",
    "# 새로운 행렬은 원래 행렬과 원소 개수가 같아야 합니다. size 속성을 사용해 원소 수를 확인할 수 있습니다.\n",
    "matrix.size\n",
    "\n",
    "# reshape에 사용할 수 있는 매개변수 -1은 가능한 많이라는 뜻으로 유용하게 사용됩니다.\n",
    "# reshape(1,-1)은 행 하나에 열은 가능한 많게라는 의미입니다.\n",
    "matrix.reshape(1,-1)\n",
    "\n",
    "# reshape에 정수 하나를 입력하면 그 길이의 1차원 배열을 반환합니다.\n",
    "matrix.reshape(12)\n",
    "\n",
    "# 배열의 길이 전체를 헤아릴 필요없이 reshape 메서드에 -1을 입력하면 1차원 배열로 바꾸어줍니다.\n",
    "matrix.reshape(-1)\n",
    "\n",
    "# ravel 메서드도 이와 동일한 작업을 수행합니다.\n",
    "matrix.ravel()"
   ]
  },
  {
   "cell_type": "code",
   "execution_count": 52,
   "metadata": {},
   "outputs": [
    {
     "data": {
      "text/plain": [
       "array([[[ 1,  3,  5],\n",
       "        [ 2,  4,  6]],\n",
       "\n",
       "       [[ 7,  9, 11],\n",
       "        [ 8, 10, 12]]])"
      ]
     },
     "execution_count": 52,
     "metadata": {},
     "output_type": "execute_result"
    }
   ],
   "source": [
    "#1.10 벡터나 행렬 전치하기\n",
    "\n",
    "matrix = np.array([[1,2,3],\n",
    "                   [4,5,6],\n",
    "                   [7,8,9]])\n",
    "\n",
    "# 행렬을 전치합니다.\n",
    "matrix.T\n",
    "\n",
    "# 전치는 각 원소의 행과 열의 인덱스를 바꿉니다. 선형대수 이론과 다르게 기술적으로는 벡터는 단지 값의 모음이기 때문에 전치할 수 없습니다.\n",
    "np.array([1,2,3,4,5,6]).T\n",
    "\n",
    "# 일반적으로 벡터의 전치는 행 벡터를 열 벡터로 변환하거나 그 반대를 의미합니다. 대괄호를 두 번 사용하면 벡터를 전치할 수 있습니다.\n",
    "# 행 벡터를 전치합니다.\n",
    "np.array([[1,2,3,4,5,6]]).T\n",
    "\n",
    "\n",
    "# 전치는 배열의 차원을 바꾸는 것이므로 1차원 배열에는 영향을 미치지 않습니다. T 메서드 대신 transpose 메서드를 사용할 수도 있습니다.\n",
    "matrix.transpose()\n",
    "\n",
    "# transpose 메서드는 튜플로 바꿀 차원을 직접 지정할 수도 있습니다.\n",
    "# 2x3x2 행렬을 만듭니다.\n",
    "matrix = np.array([[[ 1, 2],\n",
    "                    [ 3, 4],\n",
    "                    [ 5, 6]],\n",
    "                   \n",
    "                   [[ 7, 8],\n",
    "                    [ 9,10],\n",
    "                    [11,12]]])\n",
    "\n",
    "# 두 번째와 세 번째 차원을 바꾸어 2x2x3 행렬로 만듭니다.\n",
    "matrix.transpose((0,2,1))"
   ]
  },
  {
   "cell_type": "code",
   "execution_count": null,
   "metadata": {},
   "outputs": [],
   "source": []
  }
 ],
 "metadata": {
  "kernelspec": {
   "display_name": "Python 3",
   "language": "python",
   "name": "python3"
  },
  "language_info": {
   "codemirror_mode": {
    "name": "ipython",
    "version": 3
   },
   "file_extension": ".py",
   "mimetype": "text/x-python",
   "name": "python",
   "nbconvert_exporter": "python",
   "pygments_lexer": "ipython3",
   "version": "3.8.5"
  }
 },
 "nbformat": 4,
 "nbformat_minor": 4
}
