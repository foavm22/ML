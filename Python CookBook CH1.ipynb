{
 "cells": [
  {
   "cell_type": "code",
   "execution_count": 1,
   "metadata": {},
   "outputs": [
    {
     "name": "stdout",
     "output_type": "stream",
     "text": [
      "<class 'numpy.ndarray'>\n"
     ]
    },
    {
     "data": {
      "text/plain": [
       "False"
      ]
     },
     "execution_count": 1,
     "metadata": {},
     "output_type": "execute_result"
    }
   ],
   "source": [
    "# 26, Nov, 2023\n",
    "\n",
    "# CH1 벡터, 행렬, 배열\n",
    "# 벡터를 만들어야 합니다.\n",
    "\n",
    "import numpy as np\n",
    "\n",
    "vector_row = np.array([1,2,3])\n",
    "\n",
    "vector_column = np.array([[1],\n",
    "                          [2],\n",
    "                          [3]])\n",
    "\n",
    "print(type(vector_row))\n",
    "\n",
    "# 넘파이 배열은 ndarray 클래스의 객체. \n",
    "\n",
    "# ndarray를 사용하는 방법은 권장X\n",
    "bad_way = np.ndarray((3,))\n",
    "\n",
    "# asarray 함수를 사용하여 배열 만들기. \n",
    "new_row = np.asarray([1,2,3])\n",
    "\n",
    "#입력이 넘파이 배열일 떄는 새로운 배열을 생성X\n",
    "new_row = np.asarray(vector_row)\n",
    "new_row is vector_row\n",
    "\n",
    "\n",
    "# array는 배열이 입력되면 새로운 배열을 만듭니다.\n",
    "new_row = np.array(vector_row)\n",
    "new_row is vector_row\n",
    "\n",
    "#copy 매서드를 사용하면 의도가 분명해집니다.\n",
    "new_row = vector_row.copy()\n",
    "new_row is vector_row"
   ]
  },
  {
   "cell_type": "code",
   "execution_count": 2,
   "metadata": {},
   "outputs": [
    {
     "data": {
      "text/plain": [
       "array([[7, 7],\n",
       "       [7, 7],\n",
       "       [7, 7]])"
      ]
     },
     "execution_count": 2,
     "metadata": {},
     "output_type": "execute_result"
    }
   ],
   "source": [
    "# 행렬을 만들어야 합니다.\n",
    "import numpy as np\n",
    "\n",
    "matrix = np.array([[1, 2],\n",
    "                  [1, 2],\n",
    "                  [1, 2]])\n",
    "\n",
    "matrix_object = np.mat([[1, 2],\n",
    "                        [1, 2],\n",
    "                        [1, 2]])\n",
    "\n",
    "# 넘파이 표준 데이터 구조는 배열. 대부분의 넘파이 함수는 행렬 아닌 배열을 반환\n",
    "# 행렬 데이터 구조는 권장X\n",
    "\n",
    "\n",
    "# 임의의 값이 채워진 배열을 만듭니다.\n",
    "empty_matrix = np.empty((3, 2))\n",
    "empty_matrix\n",
    "\n",
    "zero_matrix = np.zeros((3, 2))\n",
    "zero_matrix\n",
    "\n",
    "one_matrix = np.ones((3, 2))\n",
    "one_matrix\n",
    "\n",
    "# 영행렬을 만든 후 7을 더합니다.\n",
    "seven_matrix = np.zeros((3, 2)) + 7\n",
    "\n",
    "# full 함수를 사용하는 것이 효율적입니다.\n",
    "seven_matrix = np.full((3, 2), 7)\n",
    "seven_matrix"
   ]
  },
  {
   "cell_type": "code",
   "execution_count": 5,
   "metadata": {},
   "outputs": [
    {
     "name": "stdout",
     "output_type": "stream",
     "text": [
      "  (1, 1)\t1\n",
      "  (2, 0)\t3\n",
      "  (1, 1)\t1\n",
      "  (2, 0)\t3\n",
      "  (1, 1)\t1\n",
      "  (2, 0)\t3\n",
      "[[0 0 0 0 0 0 0 0 0 0]\n",
      " [0 1 0 0 0 0 0 0 0 0]\n",
      " [3 0 0 0 0 0 0 0 0 0]]\n"
     ]
    },
    {
     "data": {
      "text/plain": [
       "matrix([[0, 0, 0, 0, 0, 0, 0, 0, 0, 0],\n",
       "        [0, 1, 0, 0, 0, 0, 0, 0, 0, 0],\n",
       "        [3, 0, 0, 0, 0, 0, 0, 0, 0, 0]], dtype=int32)"
      ]
     },
     "execution_count": 5,
     "metadata": {},
     "output_type": "execute_result"
    }
   ],
   "source": [
    "# 데이터에 0이 아닌 값이 매우 적을 때 이를 효율적으로 표현하고 싶습니다.\n",
    "\n",
    "from scipy import sparse\n",
    "\n",
    "matrix = np.array([[0, 0],\n",
    "                   [0, 1],\n",
    "                   [3, 0]])\n",
    "\n",
    "\n",
    "matrix_sparse = sparse.csr_matrix(matrix)\n",
    "\n",
    "# 희소 행렬은 0이 아닌 원소만 저장. 다른 모든 원소는 0이라 가정하여 계산비용을 줄임\n",
    "# CSR: Compressed Sparse Row\n",
    "\n",
    "print(matrix_sparse)\n",
    "\n",
    "\n",
    "matrix_large = np.array([[0, 0, 0, 0, 0, 0, 0, 0, 0, 0],\n",
    "                         [0, 1, 0, 0, 0, 0, 0, 0, 0, 0],\n",
    "                         [3, 0, 0, 0, 0, 0, 0, 0, 0, 0]])\n",
    "\n",
    "matrix_large_sparse = sparse.csr_matrix(matrix_large)\n",
    "\n",
    "print(matrix_large_sparse)\n",
    "\n",
    "# 희소 행렬에는 여러 종류가 있음. CSC, 리스트의 리스트, 키의 딕셔너리 등\n",
    "\n",
    "# 일반적으로 밀집 배열 (dense array)로부터 희소 행렬을 만드는 일은 드뭅니다.\n",
    "# 원소의 행과 열의 인덱스를 직접 지정하여 희소 행렬을 만들 수 있습니다.\n",
    "\n",
    "\n",
    "# (data, (row_index, col_index)) 로 구성된 튜플을 전달합니다.\n",
    "# shape 매개변수에서 0을 포함한 행렬의 전체 크기를 지정합니다.\n",
    "\n",
    "matrix_sparse_2 = sparse.csr_matrix(([1, 3], ([1, 2], [1, 0])), shape=(3, 10))\n",
    "# ([할당할 수],([행],[열])) // 2행 2열에 1 배정, 3행 1열에 3배정 \n",
    "\n",
    "print(matrix_sparse_2)\n",
    "\n",
    "# 희소 행렬을 밀집 배열로 변환하려면 toarray 매서드를 사용합니다.\n",
    "print(matrix_sparse_2.toarray())\n",
    "\n",
    "# todense 매서드는 np.matrix 객체를 반환합니다.\n",
    "matrix_sparse_2.todense()"
   ]
  },
  {
   "cell_type": "code",
   "execution_count": 6,
   "metadata": {},
   "outputs": [
    {
     "data": {
      "text/plain": [
       "5"
      ]
     },
     "execution_count": 6,
     "metadata": {},
     "output_type": "execute_result"
    }
   ],
   "source": [
    "# 12, Jan, 2024\n",
    "# 1.4 원소 선택하기\n",
    "# 벡터나 행렬에서 원소를 하나 이상 선택해야 합니다.\n",
    "\n",
    "import numpy as np\n",
    "\n",
    "vector = np.array([1,2,3,4,5,6])\n",
    "\n",
    "matrix = np.array([[1,2,3],\n",
    "                   [4,5,6],\n",
    "                   [7,8,9]])\n",
    "\n",
    "vector[2]\n",
    "\n",
    "matrix[1,1]"
   ]
  },
  {
   "cell_type": "code",
   "execution_count": 17,
   "metadata": {},
   "outputs": [
    {
     "data": {
      "text/plain": [
       "array([[2],\n",
       "       [5],\n",
       "       [8]])"
      ]
     },
     "execution_count": 17,
     "metadata": {},
     "output_type": "execute_result"
    }
   ],
   "source": [
    "# 파이썬과 마차나지로 넘파이 배열의 인덱스는 0부터 시작합니다. 즉, 첫 번째 원소의 인덱스는 1이 아니라 0입니다. \n",
    "# 넘파이는 배열에서 원소나 원소 그룹을 선택하는 다양한 방법(인덱싱, 슬라이싱)을 제공합니다.\n",
    "\n",
    "# 벡터에 있는 모든 원소 선택\n",
    "vector[:]\n",
    "\n",
    "# 세 번째 원소를 포함한 그 이전의 모든 원소 선택\n",
    "vector[:3] \n",
    "\n",
    "# 세 번째 이후의 모든 원소 선택\n",
    "vector[3:]\n",
    "\n",
    "# 마지막 원소 선택\n",
    "vector[-1]\n",
    "\n",
    "# 행렬에서 첫 번째 두 행과 모든 열 선택\n",
    "matrix[:2,:]\n",
    "\n",
    "# 모든 행과 두 번째 열 선택\n",
    "matrix[:,1:2]\n",
    "\n",
    "# cf. 위는 두 번째 열이 matrix 형태 그대로 열벡터로 나오지만, 아래처럼 스칼라로 줄 경우 행벡터 형태로 나옴\n",
    "matrix[:,1]"
   ]
  },
  {
   "cell_type": "code",
   "execution_count": 20,
   "metadata": {},
   "outputs": [
    {
     "data": {
      "text/plain": [
       "array([6, 7, 8, 9])"
      ]
     },
     "execution_count": 20,
     "metadata": {},
     "output_type": "execute_result"
    }
   ],
   "source": [
    "# 행과 열의 인덱스 리스트를 전달하여 배열의 원소를 선택할 수 있습니다. 이를 팬시 인덱싱(fancy indexing)이라고도 부릅니다.\n",
    "\n",
    "# 첫 번째 행과 세 번째 행 선택\n",
    "matrix[[0,2]]\n",
    "\n",
    "# (0,1), (2,0) 위치의 원소 선택\n",
    "matrix[[0,2],[1,0]]\n",
    "\n",
    "\n",
    "# 불리언 마스크(boolean mask) 배열을 만들어 원소를 선택할 수도 있습니다.\n",
    "\n",
    "# matrix의 각 원소에 비교 연산자 적용\n",
    "mask = matrix > 5\n",
    "mask\n",
    "\n",
    "# 불리언 마스크 배열을 사용하여 원소 선택\n",
    "matrix[mask]"
   ]
  },
  {
   "cell_type": "code",
   "execution_count": 26,
   "metadata": {},
   "outputs": [
    {
     "name": "stdout",
     "output_type": "stream",
     "text": [
      "int32\n",
      "4\n",
      "48\n"
     ]
    }
   ],
   "source": [
    "# 1.5 행렬 정보 확인하기\n",
    "# 행렬 크기, 원소 개수, 차원을 알고 싶습니다.\n",
    "\n",
    "import numpy as np\n",
    "\n",
    "matrix = np.array([[1,2,3,4],\n",
    "                   [5,6,7,8],\n",
    "                   [9,10,11,12]])\n",
    "\n",
    "# 행렬 크기 확인\n",
    "matrix.shape\n",
    "\n",
    "# 행렬의 원소 개수 확인 (행 * 열)\n",
    "matrix.size\n",
    "\n",
    "# 차원 수 확인\n",
    "matrix.ndim\n",
    "\n",
    "\n",
    "# 원소의 데이터 타입 확인\n",
    "print(matrix.dtype)\n",
    "\n",
    "# 원소 하나가 차지하는 바이트 크기\n",
    "print(matrix.itemsize)\n",
    "\n",
    "# 배열 전체가 차지하는 바이트 크기\n",
    "print(matrix.nbytes)"
   ]
  },
  {
   "cell_type": "code",
   "execution_count": 27,
   "metadata": {},
   "outputs": [
    {
     "data": {
      "text/plain": [
       "array([[101, 102, 103],\n",
       "       [104, 105, 106],\n",
       "       [107, 108, 109]])"
      ]
     },
     "execution_count": 27,
     "metadata": {},
     "output_type": "execute_result"
    }
   ],
   "source": [
    "# 1.6 벡터화 연산 적용하기\n",
    "\n",
    "import numpy as np\n",
    "\n",
    "matrix = np.array([[1,2,3],\n",
    "                   [4,5,6],\n",
    "                   [7,8,9]])\n",
    "\n",
    "# 100을 더하는 함수를 만듭니다.\n",
    "add_100 = lambda i: i+100\n",
    "\n",
    "# 벡터화된 함수를 만듭니다.\n",
    "vectorized_add_100 = np.vectorize(add_100)\n",
    "\n",
    "# 행렬의 모든 원소에 함수를 적용합니다.\n",
    "vectorized_add_100(matrix)"
   ]
  },
  {
   "cell_type": "code",
   "execution_count": 29,
   "metadata": {},
   "outputs": [
    {
     "data": {
      "text/plain": [
       "array([[101, 102, 103],\n",
       "       [104, 105, 106],\n",
       "       [107, 108, 109]])"
      ]
     },
     "execution_count": 29,
     "metadata": {},
     "output_type": "execute_result"
    }
   ],
   "source": [
    "# 넘파이 vectorize 클래스는 배열의 일부나 전체에 적용하도록 함수를 변환시킵니다. \n",
    "# vectorize는 기본적으로 원소를 순회하는 for 루프를 구현한 것으로 성능이 향상되지는 않습니다.\n",
    "# 반면, 넘파이 배열은 차원이 달라도 배열 간의 연산을 수행할 수 있습니다(이를 브로드캐스팅(broadcasting)이라고 부릅니다).\n",
    "\n",
    "# 모든 원소에 100을 더합니다.\n",
    "matrix + 100\n",
    "\n",
    "# 브로드캐스팅은 배열에 차원을 추가하거나 반복해서 배열 크기를 맞춥니다.\n",
    "\n",
    "# (3,3) 크기 행렬에 (3,) 크기 벡터를 더하면\n",
    "# (1,3) 크기가 된 다음 행을 따라 반복됩니다.\n",
    "matrix + [100,100,100]\n",
    "\n",
    "# (3,3) 크기 행렬에 (3,1) 크기 벡터를 더하면 열을 따라 반복됩니다.\n",
    "matrix + [[100],[100],[100]]"
   ]
  },
  {
   "cell_type": "code",
   "execution_count": 32,
   "metadata": {},
   "outputs": [
    {
     "data": {
      "text/plain": [
       "array([[-2, -1,  0],\n",
       "       [-2, -1,  0],\n",
       "       [-2, -1,  0]])"
      ]
     },
     "execution_count": 32,
     "metadata": {},
     "output_type": "execute_result"
    }
   ],
   "source": [
    "# 1.7 최댓값, 최솟값 찾기\n",
    "\n",
    "# 가장 큰 원소를 반환\n",
    "np.max(matrix)\n",
    "\n",
    "# 가장 작은 원소를 반환\n",
    "np.min(matrix)\n",
    "\n",
    "\n",
    "# axis 매개변수를 사용하여 특정 축을 따라 연산을 수행할 수 있습니다.\n",
    "\n",
    "# 각 열에서 최댓값을 찾습니다.\n",
    "np.max(matrix, axis=0)\n",
    "\n",
    "# 각 행에서 최댓값을 찾습니다.\n",
    "np.max(matrix, axis=1)\n",
    "\n",
    "\n",
    "# keepdims 매개변수를 True로 지정하면 원본 배열의 차원과 동일한 결과를 만듭니다. 원본 배열과 안전하게 브로드캐스팅 연산을 할 수 있습니다.\n",
    "\n",
    "# 이전 예와 달리 (3,1) 크기의 열 벡터가 만들어집니다.\n",
    "vector_column = np.max(matrix, axis=1, keepdims=True)\n",
    "vector_column\n",
    "\n",
    "# 열 벡터이므로 브로드캐스팅을 이용하여 각 행의 최댓값을 뺄 수 있습니다.\n",
    "matrix - vector_column"
   ]
  },
  {
   "cell_type": "code",
   "execution_count": 35,
   "metadata": {},
   "outputs": [
    {
     "data": {
      "text/plain": [
       "0    2.738613\n",
       "dtype: float64"
      ]
     },
     "execution_count": 35,
     "metadata": {},
     "output_type": "execute_result"
    }
   ],
   "source": [
    "# 1.8 평균, 분산, 표준편차 계산하기\n",
    "\n",
    "# 평균 반환\n",
    "np.mean(matrix)\n",
    "\n",
    "# 분산 반환\n",
    "np.var(matrix)\n",
    "\n",
    "# 표준편차 반환\n",
    "np.std(matrix)\n",
    "\n",
    "\n",
    "# 각 열의 평균 계산\n",
    "np.mean(matrix, axis=0)\n",
    "\n",
    "\n",
    "# 훈련 데이터의 독립적인 샘플 수는 전체 샘플 수에서 1을 빼야 합니다. np.std 함수와 np.var 함수에서 ddof 매개변수를 1로 지정하여 \n",
    "# 편향되지 않은 추정값을 얻을 수 있습니다. ddof 매개변수의 기본값은 0입니다.\n",
    "\n",
    "np.std(matrix, ddof=1)\n",
    "\n",
    "# 넘파이와 다르게 판다스 데이터프레임의 std 메서드는 ddof 매개변수의 기본값이 1입니다.\n",
    "\n",
    "import pandas as pd\n",
    "\n",
    "df = pd.DataFrame(matrix.flatten())\n",
    "df.std()\n",
    "\n",
    "# 넘파이 mean, std, var 함수도 keepdims 매개변수를 지원합니다."
   ]
  },
  {
   "cell_type": "code",
   "execution_count": 42,
   "metadata": {},
   "outputs": [
    {
     "data": {
      "text/plain": [
       "array([ 1,  2,  3,  4,  5,  6,  7,  8,  9, 10, 11, 12])"
      ]
     },
     "execution_count": 42,
     "metadata": {},
     "output_type": "execute_result"
    }
   ],
   "source": [
    "# 1.9 배열 크기 바꾸기\n",
    "\n",
    "matrix = np.array([[1,2,3,4],\n",
    "                   [5,6,7,8],\n",
    "                   [9,10,11,12]])\n",
    "\n",
    "# 2x6 행렬로 크기를 바꿉니다.\n",
    "matrix.reshape(2,6)\n",
    "\n",
    "\n",
    "# reshape 함수는 데이터를 동일하게 유지하면서 배열의 구조를 변경하여 행과 열의 수를 다르게 조직할 수 있습니다.\n",
    "# 새로운 행렬은 원래 행렬과 원소 개수가 같아야 합니다. size 속성을 사용해 원소 수를 확인할 수 있습니다.\n",
    "matrix.size\n",
    "\n",
    "# reshape에 사용할 수 있는 매개변수 -1은 가능한 많이라는 뜻으로 유용하게 사용됩니다.\n",
    "# reshape(1,-1)은 행 하나에 열은 가능한 많게라는 의미입니다.\n",
    "matrix.reshape(1,-1)\n",
    "\n",
    "# reshape에 정수 하나를 입력하면 그 길이의 1차원 배열을 반환합니다.\n",
    "matrix.reshape(12)\n",
    "\n",
    "# 배열의 길이 전체를 헤아릴 필요없이 reshape 메서드에 -1을 입력하면 1차원 배열로 바꾸어줍니다.\n",
    "matrix.reshape(-1)\n",
    "\n",
    "# ravel 메서드도 이와 동일한 작업을 수행합니다.\n",
    "matrix.ravel()"
   ]
  },
  {
   "cell_type": "code",
   "execution_count": 52,
   "metadata": {},
   "outputs": [
    {
     "data": {
      "text/plain": [
       "array([[[ 1,  3,  5],\n",
       "        [ 2,  4,  6]],\n",
       "\n",
       "       [[ 7,  9, 11],\n",
       "        [ 8, 10, 12]]])"
      ]
     },
     "execution_count": 52,
     "metadata": {},
     "output_type": "execute_result"
    }
   ],
   "source": [
    "#1.10 벡터나 행렬 전치하기\n",
    "\n",
    "matrix = np.array([[1,2,3],\n",
    "                   [4,5,6],\n",
    "                   [7,8,9]])\n",
    "\n",
    "# 행렬을 전치합니다.\n",
    "matrix.T\n",
    "\n",
    "# 전치는 각 원소의 행과 열의 인덱스를 바꿉니다. 선형대수 이론과 다르게 기술적으로는 벡터는 단지 값의 모음이기 때문에 전치할 수 없습니다.\n",
    "np.array([1,2,3,4,5,6]).T\n",
    "\n",
    "# 일반적으로 벡터의 전치는 행 벡터를 열 벡터로 변환하거나 그 반대를 의미합니다. 대괄호를 두 번 사용하면 벡터를 전치할 수 있습니다.\n",
    "# 행 벡터를 전치합니다.\n",
    "np.array([[1,2,3,4,5,6]]).T\n",
    "\n",
    "\n",
    "# 전치는 배열의 차원을 바꾸는 것이므로 1차원 배열에는 영향을 미치지 않습니다. T 메서드 대신 transpose 메서드를 사용할 수도 있습니다.\n",
    "matrix.transpose()\n",
    "\n",
    "# transpose 메서드는 튜플로 바꿀 차원을 직접 지정할 수도 있습니다.\n",
    "# 2x3x2 행렬을 만듭니다.\n",
    "matrix = np.array([[[ 1, 2],\n",
    "                    [ 3, 4],\n",
    "                    [ 5, 6]],\n",
    "                   \n",
    "                   [[ 7, 8],\n",
    "                    [ 9,10],\n",
    "                    [11,12]]])\n",
    "\n",
    "# 두 번째와 세 번째 차원을 바꾸어 2x2x3 행렬로 만듭니다.\n",
    "matrix.transpose((0,2,1))"
   ]
  },
  {
   "cell_type": "code",
   "execution_count": 9,
   "metadata": {},
   "outputs": [
    {
     "data": {
      "text/plain": [
       "array([1, 2, 3, 4, 5, 6, 7, 8, 9])"
      ]
     },
     "execution_count": 9,
     "metadata": {},
     "output_type": "execute_result"
    }
   ],
   "source": [
    "# 15, Jan, 2024\n",
    "# 1.11 행렬 펼치기\n",
    "\n",
    "import numpy as np\n",
    "\n",
    "matrix = np.array([[1,2,3],\n",
    "                   [4,5,6],\n",
    "                   [7,8,9]])\n",
    "\n",
    "matrix.flatten()\n",
    "\n",
    "# flatten은 행렬을 1차원 배열로 변환하는 간단한 메서드입니다. reshape 메서드를 사용하여 행 벡터를 만들 수도 있습니다.\n",
    "matrix.reshape(1,-1)\n",
    "\n",
    "# reshape 메서드는 넘파이 배열의 뷰를 반환하지만 flatten 메서드는 새로운 배열을 만듭니다.\n",
    "vector_reshaped = matrix.reshape(-1)\n",
    "vector_flattened = matrix.flatten()\n",
    "\n",
    "# (0,0) 위치의 원소를 바꿉니다.\n",
    "matrix[0][0] = -1\n",
    "\n",
    "# 배열의 뷰는 원본 배열의 변경 사항을 반영합니다.\n",
    "vector_reshaped\n",
    "\n",
    "# reshaped 메서드로 변환한 vector_column은 원본 배열에서 변경된 내용이 반영되지만\n",
    "# flatten 메서드는 배열을 보가하여 새로운 배열을 만들기 떄문에 반영되지 않습니다.\n",
    "\n",
    "# 복사된 배열에는 영향이 미치지 않습니다.\n",
    "vector_flattened"
   ]
  },
  {
   "cell_type": "code",
   "execution_count": 13,
   "metadata": {},
   "outputs": [
    {
     "data": {
      "text/plain": [
       "2"
      ]
     },
     "execution_count": 13,
     "metadata": {},
     "output_type": "execute_result"
    }
   ],
   "source": [
    "# 1.12 행렬의 랭크 구하기\n",
    "matrix = np.array([[1,1,1],\n",
    "                   [1,1,10],\n",
    "                   [1,1,15]])\n",
    "\n",
    "np.linalg.matrix_rank(matrix)\n",
    "\n",
    "# 행렬의 랭크는 행이나 열이 만든 벡터 공간의 차원입니다. 넘파이에서는 matrix_rank 덕분에 행령의 랭크를 쉽게 찾을 수 있습니다.\n",
    "\n",
    "# 행렬의 랭크(혹은 계수)는 선형 독립적인 행 또는 열 개수입니다. 위 행렬은 첫번째 열과 두 번째 열이 동일하기 때문에 독립적인 열이 2개입니다.\n",
    "\n",
    "# 행렬의 차원을 계산하는 rank 함수를 행렬의 랭크로 오해하기 쉽습니다. 이 함수는 넘파이 1.18 버전에서 삭제되었습니다.\n",
    "#1.18 버전 이후에서 행렬의 차원을 구하려면 ndim 함수를 사용하세요.\n",
    "\n",
    "## 2D 배열이므로 2가 반환됩니다.\n",
    "np.ndim(matrix)\n",
    "\n",
    "\n",
    "# matrix_rank 함수는 특잇값 분해(singular value decomposition) 방식으로 랭크를 계산합니다. \n",
    "# linalg 모듈의 svd 함수로 특잇값을 구한 다음 0이 아닌 값 수를 헤아립니다.\n",
    "\n",
    "## svd 함수로 특잇값만 계산합니다.\n",
    "s = np.linalg.svd(matrix, compute_uv=False)\n",
    "## 오차를 고려하여 0에 가까운 아주 작은 값을 지정합니다.\n",
    "np.sum(s > 1e-10)"
   ]
  },
  {
   "cell_type": "code",
   "execution_count": 14,
   "metadata": {},
   "outputs": [
    {
     "data": {
      "text/plain": [
       "0.0"
      ]
     },
     "execution_count": 14,
     "metadata": {},
     "output_type": "execute_result"
    }
   ],
   "source": [
    "# 1.13 행렬식 계산하기\n",
    "\n",
    "matrix = np.array([[1,2,3],\n",
    "                   [2,4,6],\n",
    "                   [3,8,9]])\n",
    "\n",
    "np.linalg.det(matrix)\n",
    "\n",
    "# 행렬식은 정방행렬에 의한 선형 변환의 특징을 나타내는 스칼라값입니다. (2,2) 크기의 행렬 A = [[a,b],[c,d]] 가 있다면 행렬식은\n",
    "# det(A) = ad - bc 와 같이 계산합니다. 더 큰 행렬은 라플라스 전개를 사용해 재귀적으로 작은 행렬식을 표현할 수 있습니다."
   ]
  },
  {
   "cell_type": "code",
   "execution_count": 20,
   "metadata": {},
   "outputs": [
    {
     "name": "stdout",
     "output_type": "stream",
     "text": [
      "[1 4 9]\n"
     ]
    },
    {
     "data": {
      "text/plain": [
       "array([[1, 0, 0],\n",
       "       [0, 4, 0],\n",
       "       [0, 0, 9]])"
      ]
     },
     "execution_count": 20,
     "metadata": {},
     "output_type": "execute_result"
    }
   ],
   "source": [
    "# 1.14 행렬의 대각원소 추출하기\n",
    "\n",
    "matrix.diagonal()\n",
    "\n",
    "# 넘파이의 diagonal 메서드를 사용하여 대각원소를 손쉽게 얻을 수 있습니다.\n",
    "# offset 매개변수를 사용하면 주 대각선에서 벗어난 대각원소를 얻을 수 있습니다.\n",
    "\n",
    "## 주 대각선 하나 위의 대각원소를 반환합니다.\n",
    "matrix.diagonal(offset=1)\n",
    "\n",
    "## 주 대각선 하나 아래의 대각원소를 반환합니다.\n",
    "matrix.diagonal(offset=-1)\n",
    "\n",
    "# diagonal 메서드는 넘파이 1.9 버전부터 원본 배열의 뷰를 반환힙니다. 반환된 배열의 원소를 바꾸려면 배열을 복사하여 사용해야 합니다.\n",
    "## 반환된 배열을 변경하려면 복사해야 합니다.\n",
    "a = matrix.diagonal().copy()\n",
    "\n",
    "# 넘파이 diag 함수도 대각원소를 추출합니다. 이 함수는 1차원 배열이 주어졌을 때 역으로 대각행렬을 만듭니다.\n",
    "a = np.diag(matrix)\n",
    "print(a)\n",
    "\n",
    "## 1차원 배열이 주어지면 2차원 대각행렬을 만듭니다.\n",
    "np.diag(a)"
   ]
  },
  {
   "cell_type": "code",
   "execution_count": 23,
   "metadata": {},
   "outputs": [
    {
     "data": {
      "text/plain": [
       "10"
      ]
     },
     "execution_count": 23,
     "metadata": {},
     "output_type": "execute_result"
    }
   ],
   "source": [
    "# 1.15 행렬의 대각합 계산하기\n",
    "matrix.trace()\n",
    "\n",
    "# 행렬의 대각합은 대각원소의 합으로 머신러닝 알고리즘 내부에서 종종 사용됩니다. 넘파이 다차원 배열의 대각합은 trace 메서드를 사용하여\n",
    "# 간단하게 계산할 수 있습니다. 행렬의 대각원소를 직접 더할 수도 있습니다.\n",
    "\n",
    "## 대각원소를 사용하여 합을 구합니다.\n",
    "sum(matrix.diagonal())\n",
    "\n",
    "# trace 메서드도 offset 매개변수를 지원합니다.\n",
    "\n",
    "## 주 대각선 하나 위의 대각원소의 합을 반환합니다.\n",
    "matrix.trace(offset=1)\n",
    "\n",
    "## 주 대각선 하나 아래의 대각원소의 합을 반환합니다.\n",
    "matrix.trace(offset=-1)"
   ]
  },
  {
   "cell_type": "code",
   "execution_count": null,
   "metadata": {},
   "outputs": [],
   "source": [
    "# 1.16 고유값과 고유벡터 찾기\n",
    "\n",
    "matrix = np.array([[1,-1,3],\n",
    "                   [1,1,6],\n",
    "                   [3,8,9]])\n",
    "\n",
    "eigenvalues, eigenvectors = np.linalg.eig(matrix)\n",
    "\n",
    "eigenvalues\n",
    "\n",
    "eigenvectors\n",
    "\n",
    "# 고유벡터는 머신러닝 라이브러리에서 널리 사용됩니다. 행렬 A로 표현되는 선형 변환을 적용할 때 고유벡터는 스케일만 바뀌는 벡터입니다\n",
    "# (방향은 바뀌지 않습니다). 공식으로 나타내면 다음과 같습니다."
   ]
  },
  {
   "cell_type": "markdown",
   "metadata": {},
   "source": [
    "$$\\textbf{Av}=\\lambda \\textbf{v}$$\n",
    "$\\textbf{A}$ 가 정방행렬일 때 $\\lambda$는 고윳값, $\\textbf{v}$는 고유벡터입니다. \n",
    "넘파이 선형대수 모듈에서 eig 함수는 정방행렬의 고윳값과 고유벡터를 계산할 수 있습니다."
   ]
  },
  {
   "cell_type": "code",
   "execution_count": 31,
   "metadata": {},
   "outputs": [
    {
     "data": {
      "text/plain": [
       "array([-4.06068011,  0.42052872, 14.64015139])"
      ]
     },
     "execution_count": 31,
     "metadata": {},
     "output_type": "execute_result"
    }
   ],
   "source": [
    "## 대칭행렬일 경우 linalg.eigh 함수를 사용하면 고윳값과 고유벡터를 더 빠르게 계산합니다.\n",
    "# 이 함수는 입력되는 값이 진짜 대칭행렬인지 검사하지 않습니다.\n",
    "\n",
    "eigenvalues, eigenvectors = np.linalg.eigh(matrix)\n"
   ]
  },
  {
   "cell_type": "code",
   "execution_count": 32,
   "metadata": {},
   "outputs": [
    {
     "data": {
      "text/plain": [
       "32"
      ]
     },
     "execution_count": 32,
     "metadata": {},
     "output_type": "execute_result"
    }
   ],
   "source": [
    "# 1.17 점곱 계산하기\n",
    "\n",
    "vector_a = np.array([1,2,3])\n",
    "vector_b = np.array([4,5,6])\n",
    "\n",
    "np.dot(vector_a, vector_b)"
   ]
  },
  {
   "cell_type": "markdown",
   "metadata": {},
   "source": [
    "두 벡터 $\\textbf{a}$와 $\\textbf{b}$의 점곱은 다음과 같이 정의합니다.\n",
    "$$\\sum_{i=1}^{n}a_ib_i$$\n",
    "\n",
    "$a_i$는 벡터 $\\textbf{a}$의 $\\textit{i}$번째 원소입니다. 넘파이 dot 함수를 사용하여 점곱을 계산할 수 있습니다.\n",
    "파이썬 3.5 이상에서는 새로 추가된 @ 연산자를 사용할 수 있습니다."
   ]
  },
  {
   "cell_type": "code",
   "execution_count": 35,
   "metadata": {},
   "outputs": [
    {
     "ename": "ValueError",
     "evalue": "matmul: Input operand 0 does not have enough dimensions (has 0, gufunc core with signature (n?,k),(k,m?)->(n?,m?) requires 1)",
     "output_type": "error",
     "traceback": [
      "\u001b[1;31m---------------------------------------------------------------------------\u001b[0m",
      "\u001b[1;31mValueError\u001b[0m                                Traceback (most recent call last)",
      "\u001b[1;32m<ipython-input-35-27e80c51fe28>\u001b[0m in \u001b[0;36m<module>\u001b[1;34m\u001b[0m\n\u001b[0;32m      8\u001b[0m \u001b[1;33m\u001b[0m\u001b[0m\n\u001b[0;32m      9\u001b[0m \u001b[1;31m## 스칼라 배열에 적용되지 않습니다.\u001b[0m\u001b[1;33m\u001b[0m\u001b[1;33m\u001b[0m\u001b[1;33m\u001b[0m\u001b[0m\n\u001b[1;32m---> 10\u001b[1;33m \u001b[0mscalar_a\u001b[0m \u001b[1;33m@\u001b[0m \u001b[0mscalar_b\u001b[0m\u001b[1;33m\u001b[0m\u001b[1;33m\u001b[0m\u001b[0m\n\u001b[0m",
      "\u001b[1;31mValueError\u001b[0m: matmul: Input operand 0 does not have enough dimensions (has 0, gufunc core with signature (n?,k),(k,m?)->(n?,m?) requires 1)"
     ]
    }
   ],
   "source": [
    "vector_a @ vector_b\n",
    "\n",
    "# 사실 @ 연산자는 np.dot이 아니라 np.matmul 함수를 나타냅니다. np.matmul 함수는 np.dot 함수와 달리 넘파이 스칼라 배열에 적용되지 않습니다.\n",
    "\n",
    "scalar_a = np.array(1)\n",
    "scalar_b = np.array(2)\n",
    "np.dot(scalar_a, scalar_b)\n",
    "\n",
    "## 스칼라 배열에 적용되지 않습니다.\n",
    "scalar_a @ scalar_b"
   ]
  },
  {
   "cell_type": "code",
   "execution_count": 38,
   "metadata": {},
   "outputs": [
    {
     "data": {
      "text/plain": [
       "array([[ 2,  4,  2],\n",
       "       [ 2,  4,  2],\n",
       "       [ 2,  4, 10]])"
      ]
     },
     "execution_count": 38,
     "metadata": {},
     "output_type": "execute_result"
    }
   ],
   "source": [
    "# 1.18 행렬 덧셈과 뺄셈\n",
    "\n",
    "matrix_a = np.array([[1,1,1],\n",
    "                     [1,1,1],\n",
    "                     [1,1,2]])\n",
    "\n",
    "matrix_b = np.array([[1,3,1],\n",
    "                     [1,3,1],\n",
    "                     [1,3,8]])\n",
    "\n",
    "np.add(matrix_a, matrix_b)\n",
    "\n",
    "np.subtract(matrix_a, matrix_b)\n",
    "\n",
    "# 간단하게 +, - 연산자를 사용할 수 있습니다.\n",
    "matrix_a + matrix_b"
   ]
  },
  {
   "cell_type": "code",
   "execution_count": 46,
   "metadata": {},
   "outputs": [
    {
     "data": {
      "text/plain": [
       "(2, 3, 4, 6)"
      ]
     },
     "execution_count": 46,
     "metadata": {},
     "output_type": "execute_result"
    }
   ],
   "source": [
    "# 1.19 행렬 곱셈\n",
    "\n",
    "matrix_a = np.array([[1,1],\n",
    "                     [1,2]])\n",
    "\n",
    "matrix_b = np.array([[1,3],\n",
    "                     [1,2]])\n",
    "\n",
    "np.dot(matrix_a, matrix_b)\n",
    "\n",
    "# 파이썬 3.5 이상에서는 @ 연산자를 사용할 수도 있습니다.\n",
    "matrix_a @ matrix_b\n",
    "\n",
    "# 원소별 곱셈을 수행하려면 * 연산자를 사용합니다.\n",
    "matrix_a * matrix_b\n",
    "\n",
    "# np.dot 함수는 다차원 배열에도 적용할 수 있습니다. 이때는 첫 번쨰 배열의 마지막 차원과 두 번째 배열의 끝에서 두 번째 차원이 동일해야 합니다.\n",
    "\n",
    "# (a,b,c,D) 크기의 배열과 (e,f,D,h) 크기의 배열이 있을 때 두 배열의 점곱 결과는 (a,b,c,e,f,h) 크기의 배열을 만듭니다.\n",
    "\n",
    "# 이와 달리 np.matmul 함수와 @ 연산자는 다차원 배열을 마지막 두 차원이 단순히 쌓인 것으로 취급합니다.\n",
    "\n",
    "# (a,b,c,D) 크기의 배열과 (e,f,D,h) 크기의 배열이 있을 때 np.matmul 함수나 @ 연산자를 적용하려면 a와 e가 같거나 둘 중 하나는 1이어야 합니다.\n",
    "# 또한 b와 f가 같거나 둘 중 하나는 1이어야 합니다. 연산의 결과는 (a',b',c,h) 크기의 배열을 만듭니다.\n",
    "# 여기에서 a' 은 a와 e 중에서 1이 아닌 값이고 b'는 b와 f 중에서 1이 아닌 값입니다.\n",
    "\n",
    "a = np.random.rand(2,1,4,5)\n",
    "b = np.random.rand(1,3,5,6)\n",
    "\n",
    "np.dot(a,b).shape\n",
    "\n",
    "np.matmul(a,b).shape"
   ]
  },
  {
   "cell_type": "code",
   "execution_count": 47,
   "metadata": {},
   "outputs": [
    {
     "data": {
      "text/plain": [
       "array([[-1.66666667,  1.33333333],\n",
       "       [ 0.66666667, -0.33333333]])"
      ]
     },
     "execution_count": 47,
     "metadata": {},
     "output_type": "execute_result"
    }
   ],
   "source": [
    "# 1.20 역행렬\n",
    "\n",
    "matrix = np.array([[1,4],\n",
    "                   [2,5]])\n",
    "\n",
    "np.linalg.inv(matrix)"
   ]
  },
  {
   "cell_type": "markdown",
   "metadata": {},
   "source": [
    "정방행렬 $\\textbf{A}$ 의 역행렬은 다음 식의 두 번째 행렬 $\\textbf{A}^{-1}$ 입니다.\n",
    "$$\\textbf{A}\\textbf{A}^{-1}=\\textbf{I}$$\n",
    "$\\textbf{I}$는 단위행렬입니다. 역행렬  $\\textbf{A}^{-1}$가 존재한다면 넘파이의 linalg.inv 함수를 사용하여 계산할 수 있습니다.\n",
    "행렬에 역행렬을 곱해 단위행렬이 만들어지는지 확인해볼 수 있습니다."
   ]
  },
  {
   "cell_type": "code",
   "execution_count": 49,
   "metadata": {},
   "outputs": [
    {
     "data": {
      "text/plain": [
       "array([[-1.16666667,  1.        ],\n",
       "       [-0.33333333,  0.33333333],\n",
       "       [ 0.5       , -0.33333333]])"
      ]
     },
     "execution_count": 49,
     "metadata": {},
     "output_type": "execute_result"
    }
   ],
   "source": [
    "matrix @ np.linalg.inv(matrix)\n",
    "\n",
    "# pinv 함수를 사용하면 정방행렬이 아닌 행렬의 역행렬을 계산할 수 있습니다. 이를 유사 역행렬(pseudo-inverse matrix)이라고 부릅니다.\n",
    "\n",
    "matrix = np.array([[1,4,7],\n",
    "                   [2,5,8]])\n",
    "\n",
    "np.linalg.pinv(matrix)"
   ]
  },
  {
   "cell_type": "code",
   "execution_count": 64,
   "metadata": {},
   "outputs": [
    {
     "data": {
      "text/plain": [
       "array([4, 1, 2, 0, 3])"
      ]
     },
     "execution_count": 64,
     "metadata": {},
     "output_type": "execute_result"
    }
   ],
   "source": [
    "# 1.21 난수 생성하기\n",
    "\n",
    "np.random.seed(0)\n",
    "np.random.random(3)\n",
    "\n",
    "## 1과 10 사이에서 세 개의 정수 난수를 생성\n",
    "np.random.randint(0,11,3)\n",
    "\n",
    "## 평균이 0.0이고 표준편차가 1.0인 정규분포에서 세 개의 수를 뽑습니다.\n",
    "np.random.normal(0.0, 1.0, 3)\n",
    "\n",
    "## 평균이 0.0이고 스케일이 1.0인 로지스틱 분포에서 세 개의 수를 뽑습니다.\n",
    "np.random.logistic(0.0, 1.0, 3)\n",
    "\n",
    "## 1.0보다 크거나 같고 2.0보다 작은 세 개의 수를 뽑습니다.\n",
    "np.random.uniform(1.0, 2.0, 3)\n",
    "\n",
    "# random 함수와 sample 함수는 random_sample 함수의 단순한 별칭입니다. 또한 uniform 함수에 최솟값을 0.0, 최댓값을 1.0으로 지정한 것과 동일합니다.\n",
    "\n",
    "## 0.0(포함)과 1.0 사이에서 세 개의 실수 난수를 생성\n",
    "## np.random.random((2, 3)), np.random.sample((2, 3)), np.random.uniform(0.0, 1.0, (2, 3))과 동일\n",
    "np.random.random_sample((2, 3))\n",
    "\n",
    "# 이와 비슷한 rand 함수는 크기를 튜플이 아니라 개별적인 매개변수로 전달합니다.\n",
    "## np.random.random_sample((2, 3))과 동일\n",
    "np.random.rand(2, 3)\n",
    "\n",
    "\n",
    "# randint 함수는 최솟값을 포함하고 최댓값은 포함하지 않는 정수 난수를 생성합니다.\n",
    "np.random.randint(0, 1, 10)\n",
    "\n",
    "# standard_normal 함수를 사용하여 평균이 0.0이고 표준편차가 1.0인 정규분포의 난수를 생성할 수 있습니다.\n",
    "## np.random.normal(0.0, 1.0, (2, 3))과 동일\n",
    "np.random.standard_normal((2, 3))\n",
    "\n",
    "# 이와 비슷한 randn 함수는 크기를 튜플이 아니라 개별적인 매개변수로 전달합니다.\n",
    "## np.random.normal(0.0, 1.0, (2, 3))과 동일\n",
    "np.random.randn(2, 3)\n",
    "\n",
    "\n",
    "# choice 함수는 배열의 원소 중에서 랜덤하게 지정된 횟수만큼 샘플을 만듭니다. 또는 0~정수-1 사이의 원소 중에서 랜덤하게 샘플을 선택합니다.\n",
    "## 0~2 사이의 정수 중 랜덤하게 5번을 뽑습니다.\n",
    "## np.random.choice(3, 5)와 동일\n",
    "np.random.choice([0,1,2], 5)\n",
    "\n",
    "\n",
    "# shuffle 함수는 입력된 배열을 섞습니다.\n",
    "a = np.array([0, 1, 2, 3, 4])\n",
    "np.random.shuffle(a)\n",
    "a\n",
    "\n",
    "\n",
    "# permutation 함수는 입력된 배열의 복사본을 만들어 섞은 후 반환합니다. 정수를 입력하면 0에서부터 정수-1까지 숫자를 섞은 후 반환합니다.\n",
    "## a는 변경되지 않습니다.\n",
    "np.random.permutation(a)\n",
    "np.random.permutation(5)"
   ]
  }
 ],
 "metadata": {
  "kernelspec": {
   "display_name": "Python 3",
   "language": "python",
   "name": "python3"
  },
  "language_info": {
   "codemirror_mode": {
    "name": "ipython",
    "version": 3
   },
   "file_extension": ".py",
   "mimetype": "text/x-python",
   "name": "python",
   "nbconvert_exporter": "python",
   "pygments_lexer": "ipython3",
   "version": "3.8.5"
  }
 },
 "nbformat": 4,
 "nbformat_minor": 4
}
